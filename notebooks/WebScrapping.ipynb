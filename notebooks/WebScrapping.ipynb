{
 "cells": [
  {
   "cell_type": "code",
   "execution_count": 63,
   "metadata": {},
   "outputs": [],
   "source": [
    "from selenium import webdriver\n",
    "from selenium.webdriver.common.by import By\n",
    "from selenium.webdriver.support.ui import WebDriverWait\n",
    "from selenium.webdriver.support import expected_conditions as EC\n",
    "from selenium.webdriver.firefox.service import Service\n",
    "from webdriver_manager.firefox import GeckoDriverManager\n",
    "import pandas as pd"
   ]
  },
  {
   "cell_type": "code",
   "execution_count": 64,
   "metadata": {},
   "outputs": [],
   "source": [
    "driver = webdriver.Firefox(service=Service(GeckoDriverManager().install()))\n",
    "\n",
    "driver.get(\"https://www.allrecipes.com/recipe/256100/nutella-pastry-christmas-tree/\")"
   ]
  },
  {
   "cell_type": "code",
   "execution_count": 65,
   "metadata": {},
   "outputs": [
    {
     "name": "stdout",
     "output_type": "stream",
     "text": [
      "                               titulo tiempo_preparacion tiempo_cocina  \\\n",
      "0  Nutella Puff Pastry Christmas Tree            35 mins       15 mins   \n",
      "\n",
      "  tiempo_total porciones                                       ingredientes  \\\n",
      "0      55 mins         8  1 (17.5 ounce) package frozen puff pastry, tha...   \n",
      "\n",
      "                                               pasos  \n",
      "0  Paso 1: Preheat the oven to 375 degrees F (190...  \n"
     ]
    }
   ],
   "source": [
    " \n",
    "# Extraer título\n",
    "titulo_xpath = '//h1[@class=\"article-heading text-headline-400\"]'\n",
    "titulo = driver.find_element(By.XPATH, titulo_xpath).text.strip()\n",
    "\n",
    "# Extraer tiempos y porciones\n",
    "prep_time_xpath = '//div[contains(text(),\"Prep Time:\")]/following-sibling::div'\n",
    "cook_time_xpath = '//div[contains(text(),\"Cook Time:\")]/following-sibling::div'\n",
    "total_time_xpath = '//div[contains(text(),\"Total Time:\")]/following-sibling::div'\n",
    "servings_xpath = '//div[contains(text(),\"Servings:\")]/following-sibling::div'\n",
    "\n",
    "prep_time = driver.find_element(By.XPATH, prep_time_xpath).text.strip()\n",
    "cook_time = driver.find_element(By.XPATH, cook_time_xpath).text.strip()\n",
    "total_time = driver.find_element(By.XPATH, total_time_xpath).text.strip()\n",
    "servings = driver.find_element(By.XPATH, servings_xpath).text.strip()\n",
    "\n",
    "# Extraer ingredientes\n",
    "ingredients_xpath = '//ul[@class=\"mm-recipes-structured-ingredients__list\"]/li'\n",
    "ingredient_elements = driver.find_elements(By.XPATH, ingredients_xpath)\n",
    "\n",
    "ingredientes = []\n",
    "for item in ingredient_elements:\n",
    "    try:\n",
    "        cantidad = item.find_element(By.XPATH, './/span[@data-ingredient-quantity=\"true\"]').text.strip()\n",
    "    except:\n",
    "        cantidad = ''\n",
    "    \n",
    "    try:\n",
    "        unidad = item.find_element(By.XPATH, './/span[@data-ingredient-unit=\"true\"]').text.strip()\n",
    "    except:\n",
    "        unidad = ''\n",
    "    \n",
    "    try:\n",
    "        ingrediente = item.find_element(By.XPATH, './/span[@data-ingredient-name=\"true\"]').text.strip()\n",
    "    except:\n",
    "        ingrediente = ''\n",
    "    \n",
    "    ingredientes.append(f'{cantidad} {unidad} {ingrediente}'.strip())\n",
    "\n",
    "# Extraer pasos de preparación\n",
    "steps_xpath = '//ol[@id=\"mntl-sc-block_1-0\"]/li/p[not(contains(@class, \"figure-article-caption\"))]'\n",
    "step_elements = driver.find_elements(By.XPATH, steps_xpath)\n",
    "\n",
    "# Crear lista de pasos\n",
    "pasos = []\n",
    "for i, step in enumerate(step_elements, 1):\n",
    "    paso_texto = step.text.strip()\n",
    "    if paso_texto:  # Solo agregar si el paso tiene texto\n",
    "        pasos.append(f\"Paso {i}: {paso_texto}\")\n",
    "\n",
    "# Crear DataFrame\n",
    "df = pd.DataFrame([{\n",
    "    'titulo': titulo,\n",
    "    'tiempo_preparacion': prep_time,\n",
    "    'tiempo_cocina': cook_time,\n",
    "    'tiempo_total': total_time,\n",
    "    'porciones': servings,\n",
    "    'ingredientes': '\\n'.join(ingredientes),\n",
    "    'pasos': '\\n'.join(pasos)  # Agregar los pasos como una nueva columna\n",
    "}])\n",
    "\n",
    "print(df)\n",
    "\n",
    "# Cerrar el navegador\n",
    "driver.quit()"
   ]
  },
  {
   "cell_type": "code",
   "execution_count": 66,
   "metadata": {},
   "outputs": [
    {
     "name": "stdout",
     "output_type": "stream",
     "text": [
      "El archivo CSV ha sido creado exitosamente.\n",
      "\n",
      "Contenido del DataFrame:\n",
      "                               titulo tiempo_preparacion tiempo_cocina  \\\n",
      "0  Nutella Puff Pastry Christmas Tree            35 mins       15 mins   \n",
      "\n",
      "  tiempo_total porciones                                       ingredientes  \\\n",
      "0      55 mins         8  1 (17.5 ounce) package frozen puff pastry, tha...   \n",
      "\n",
      "                                               pasos  \n",
      "0  Paso 1: Preheat the oven to 375 degrees F (190...  \n"
     ]
    }
   ],
   "source": [
    "df.to_csv('recetas.csv', index=False, encoding='utf-8-sig')\n",
    "print(\"El archivo CSV ha sido creado exitosamente.\")\n",
    "print(\"\\nContenido del DataFrame:\")\n",
    "print(df)"
   ]
  },
  {
   "cell_type": "code",
   "execution_count": null,
   "metadata": {},
   "outputs": [],
   "source": []
  }
 ],
 "metadata": {
  "kernelspec": {
   "display_name": "base",
   "language": "python",
   "name": "python3"
  },
  "language_info": {
   "codemirror_mode": {
    "name": "ipython",
    "version": 3
   },
   "file_extension": ".py",
   "mimetype": "text/x-python",
   "name": "python",
   "nbconvert_exporter": "python",
   "pygments_lexer": "ipython3",
   "version": "3.11.5"
  }
 },
 "nbformat": 4,
 "nbformat_minor": 2
}
