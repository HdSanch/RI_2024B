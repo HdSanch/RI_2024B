{
 "cells": [
  {
   "cell_type": "code",
   "execution_count": 6,
   "metadata": {},
   "outputs": [],
   "source": [
    "from selenium import webdriver\n",
    "from selenium.webdriver.common.by import By\n",
    "from selenium.webdriver.support.ui import WebDriverWait\n",
    "from selenium.webdriver.support import expected_conditions as EC\n",
    "import pandas as pd\n",
    "import time\n",
    "from datetime import datetime"
   ]
  },
  {
   "cell_type": "code",
   "execution_count": 9,
   "metadata": {},
   "outputs": [],
   "source": [
    "profile_path = r'C:\\Users\\herna\\AppData\\Roaming\\Mozilla\\Firefox\\Profiles\\6mccoojc.automation'\n",
    "\n",
    "options = webdriver.FirefoxOptions()\n",
    "options.add_argument('--profile')\n",
    "options.add_argument(profile_path)\n",
    "\n",
    "driver = webdriver.Firefox(options=options)\n",
    "driver.get(\"https://www.allrecipes.com/minestrone-casserole-recipe-8765618\")"
   ]
  },
  {
   "cell_type": "code",
   "execution_count": null,
   "metadata": {},
   "outputs": [],
   "source": [
    "element_xpath = '//div[@class=\"article-heading text-headline-400\"]/a'\n",
    "# Inicializar variables\n",
    "enlaces_count = 0\n",
    "enlaces_set = set()\n",
    "\n",
    "try:\n",
    "    while True:\n",
    "        time.sleep(1.15)\n",
    "        # Encontrar todos los elementos que contienen los enlaces\n",
    "        elements = driver.find_elements(By.XPATH, element_xpath)\n",
    "        \n",
    "        for element in elements:\n",
    "            try:\n",
    "                enlaces_count += 1\n",
    "                article_link = element.get_attribute(\"href\")\n",
    "                enlaces_set.add(article_link)\n",
    "            \n",
    "            except Exception as e:\n",
    "                print(\"Error al procesar enlace:\", e)\n",
    "                continue\n",
    "        \n",
    "        try:\n",
    "            # Hacer clic en el botón \"Cargar más\" si está presente\n",
    "            btn_cargar_mas = driver.find_element(By.XPATH, '/html/body/div[2]/div/article/div[7]/div[2]/div/a')\n",
    "            btn_cargar_mas.click()\n",
    "            time.sleep(2)  # Espera 2 segundos después de hacer clic en el botón \"Cargar más\"\n",
    "        except Exception as e:\n",
    "            print(\"No se encontró el botón 'Cargar más' o se alcanzó el final de la página.\")\n",
    "            break\n",
    "        \n",
    "finally:\n",
    "    # Guardar enlaces en un archivo CSV al finalizar\n",
    "    fecha_actual = datetime.now().strftime(\"%Y-%m-%d\")\n",
    "    csv_name = f'enlaces_chevrolet_{fecha_actual}.csv'\n",
    "    df = pd.DataFrame({'enlace': list(enlaces_set)})\n",
    "    df.to_csv(csv_name, index=False)\n",
    "    print(f'{csv_name} guardado')\n",
    "\n",
    "    # Cerrar el navegador al finalizar\n",
    "    driver.quit()"
   ]
  }
 ],
 "metadata": {
  "kernelspec": {
   "display_name": "base",
   "language": "python",
   "name": "python3"
  },
  "language_info": {
   "codemirror_mode": {
    "name": "ipython",
    "version": 3
   },
   "file_extension": ".py",
   "mimetype": "text/x-python",
   "name": "python",
   "nbconvert_exporter": "python",
   "pygments_lexer": "ipython3",
   "version": "3.11.5"
  }
 },
 "nbformat": 4,
 "nbformat_minor": 2
}
