{
 "cells": [
  {
   "cell_type": "markdown",
   "id": "7266022d411c887f",
   "metadata": {},
   "source": [
    "# Ejercicio 01: Recuperación de Información Basado en el Modelo de Matriz Término-Documento\n",
    "\n",
    "## Hernán Sánchez\n",
    "\n",
    "En este ejercicio, trabajaremos con un corpus de documentos en formato JSON para implementar un sistema de Recuperación de Información basado en el modelo de espacio vectorial. Seguirás los siguientes pasos:"
   ]
  },
  {
   "cell_type": "markdown",
   "id": "b20440e0de103cf3",
   "metadata": {},
   "source": [
    "## Paso 1: Determinar un vocabulario\n",
    "El primer paso es cargar el corpus en formato JSON, extraer los textos de los documentos y crear el vocabulario."
   ]
  },
  {
   "cell_type": "markdown",
   "id": "56ba4829",
   "metadata": {},
   "source": [
    "Aqui se carga el path del archivo json, es importante usar utf-8 para que no exista error al cargar el corpus."
   ]
  },
  {
   "cell_type": "code",
   "execution_count": 5,
   "id": "initial_id",
   "metadata": {
    "ExecuteTime": {
     "end_time": "2024-10-22T12:22:34.639750Z",
     "start_time": "2024-10-22T12:22:34.631518Z"
    },
    "collapsed": true
   },
   "outputs": [],
   "source": [
    "import json\n",
    "\n",
    "datos = []\n",
    "with open(file='../data/01tdmatrix_corpus.json', mode='r', encoding='utf-8') as file:\n",
    "    datos = json.load(file)"
   ]
  },
  {
   "cell_type": "markdown",
   "id": "e627fab8",
   "metadata": {},
   "source": [
    "Imprime los datos del corpus con la etiqueta 'text', importante poner en minusculas para que no existan errores al separar por palabras."
   ]
  },
  {
   "cell_type": "code",
   "execution_count": 6,
   "id": "1cad34a871eac562",
   "metadata": {
    "ExecuteTime": {
     "end_time": "2024-10-22T12:28:42.503285Z",
     "start_time": "2024-10-22T12:28:42.487436Z"
    }
   },
   "outputs": [
    {
     "name": "stdout",
     "output_type": "stream",
     "text": [
      "la inteligencia artificial continúa avanzando rápidamente, transformando sectores como la salud y las finanzas. las empresas están adoptando algoritmos de aprendizaje automático para mejorar la eficiencia. sin embargo, el desafío principal sigue siendo garantizar que las decisiones basadas en datos sean justas y no perpetúen sesgos. la ética es fundamental en este contexto.\n"
     ]
    }
   ],
   "source": [
    "print(datos[0]['text'].lower())"
   ]
  },
  {
   "cell_type": "markdown",
   "id": "5f59a59b",
   "metadata": {},
   "source": [
    "Se divide por palabras para poder crear el vocabulario."
   ]
  },
  {
   "cell_type": "code",
   "execution_count": 7,
   "id": "186d5925bdd633b0",
   "metadata": {
    "ExecuteTime": {
     "end_time": "2024-10-22T12:29:11.334724Z",
     "start_time": "2024-10-22T12:29:11.319181Z"
    }
   },
   "outputs": [
    {
     "name": "stdout",
     "output_type": "stream",
     "text": [
      "['la', 'inteligencia', 'artificial', 'continúa', 'avanzando', 'rápidamente,', 'transformando', 'sectores', 'como', 'la', 'salud', 'y', 'las', 'finanzas.', 'las', 'empresas', 'están', 'adoptando', 'algoritmos', 'de', 'aprendizaje', 'automático', 'para', 'mejorar', 'la', 'eficiencia.', 'sin', 'embargo,', 'el', 'desafío', 'principal', 'sigue', 'siendo', 'garantizar', 'que', 'las', 'decisiones', 'basadas', 'en', 'datos', 'sean', 'justas', 'y', 'no', 'perpetúen', 'sesgos.', 'la', 'ética', 'es', 'fundamental', 'en', 'este', 'contexto.']\n"
     ]
    }
   ],
   "source": [
    "print(datos[0]['text'].lower().split())"
   ]
  },
  {
   "cell_type": "markdown",
   "id": "eb2a2d48",
   "metadata": {},
   "source": [
    "Se guarda las palabras en un conjunto llamado 'vocab', se imprime y se comprueba la longitud."
   ]
  },
  {
   "cell_type": "code",
   "execution_count": 8,
   "id": "63b4fbc92a3a663d",
   "metadata": {
    "ExecuteTime": {
     "end_time": "2024-10-22T12:29:44.074040Z",
     "start_time": "2024-10-22T12:29:44.059539Z"
    }
   },
   "outputs": [
    {
     "name": "stdout",
     "output_type": "stream",
     "text": [
      "{'están', 'basadas', 'automático', 'de', 'inteligencia', 'transformando', 'en', 'datos', 'es', 'sin', 'el', 'principal', 'ética', 'sean', 'embargo,', 'para', 'siendo', 'sesgos.', 'y', 'decisiones', 'empresas', 'las', 'garantizar', 'este', 'eficiencia.', 'no', 'que', 'aprendizaje', 'contexto.', 'fundamental', 'algoritmos', 'finanzas.', 'artificial', 'mejorar', 'adoptando', 'desafío', 'justas', 'rápidamente,', 'sigue', 'continúa', 'la', 'salud', 'perpetúen', 'sectores', 'avanzando', 'como'}\n",
      "46\n"
     ]
    }
   ],
   "source": [
    "vocab = set(datos[0]['text'].lower().split())\n",
    "print(vocab)\n",
    "print(len(vocab))"
   ]
  },
  {
   "cell_type": "markdown",
   "id": "c34291eb",
   "metadata": {},
   "source": [
    "Se crea una lista vacia, recorre todas las entradas con la etiqueta 'text', con la funcion replace los puntos y comas lo dejamos afuera de la palabra. Finalmente, extend agrega las palabras a la lista creada."
   ]
  },
  {
   "cell_type": "code",
   "execution_count": 9,
   "id": "5eded2ae4aeba3e2",
   "metadata": {
    "ExecuteTime": {
     "end_time": "2024-10-22T12:36:39.293698Z",
     "start_time": "2024-10-22T12:36:39.280871Z"
    }
   },
   "outputs": [
    {
     "name": "stdout",
     "output_type": "stream",
     "text": [
      "230\n",
      "{'presencial', 'accesibles', 'mundos', 'reto', 'tecnológicos', 'todo', 'visuales', 'más', 'experiencia', 'nivel', 'mercado', 'optimizando', 'dispositivos', 'cine', 'pueden', 'saludables', 'incorporando', 'nuevas', 'géneros', 'principal', 'ética', 'electrónico', 'transacciones', 'médicos', 'tratamientos', 'monitorean', 'programas', 'streaming', 'sesgos', 'importar', 'garantizar', 'aplicaciones', 'especialmente', 'ubicación', 'democratizando', 'películas', 'atraen', 'personalizadas', 'crecimiento', 'compras', 'recomendaciones', 'realidad', 'interactuar', 'mejorar', 'espectadores', 'futuro', 'demanda', 'usuario', 'hábitos', 'estudiantes', 'desafío', 'integral', 'cinematográficas', 'inmersivos', 'aunque', 'cada', 'la', 'educación', 'humanidad', 'mejorando', 'acceder', 'a', 'aquellos', 'videojuegos', 'comercio', 'completo', 'educativa', 'planetas', 'invita', 'rápidos', 'producciones', 'transformando', 'inteligencia', 'en', 'permitiendo', 'otros', 'ha', 'reflexionar', 'realistas', 'cuidados', 'personal', 'mundo', 'evolucionado', 'género', 'beneficios', 'herramientas', 'eficiencia', 'público', 'siendo', 'buscan', 'y', 'prometedor', 'empresas', 'mayores', 'forma', 'facilitando', 'ofrecer', 'diarias', 'aumento', 'utilizan', 'promueven', 'aumentada', 'años', 'fundamental', 'crear', 'siguen', 'cuándo', 'hasta', 'trabajos', 'enfermedades', 'ahora', 'ficción', 'vez', 'línea', 'con', 'finanzas', 'sigue', 'profesionales', 'su', 'consume', 'vida', 'sean', 'interacción', 'cambiado', 'flexibilidad', 'basadas', 'medicina', 'populares', 'automático', 'tecnologías', 'de', 'es', 'jugadores', 'datos', 'sino', 'avances', 'ciencia', 'individual', 'explorando', 'contexto', 'se', 'muchas', 'embargo', 'cursos', 'virtuales', 'decisiones', 'las', 'calidad', 'digitales', 'este', 'alcanzado', 'consumidores', 'convertido', 'tratan', 'desarrollo', 'avanzadas', 'viaje', 'e-sports', 'creciente', 'personas', 'diagnostican', 'habilidades', 'justas', 'implicaciones', 'permitido', 'real', 'libros', 'continúa', 'adopción', 'mejores', 'portátiles', 'sectores', 'enfoque', 'avanzando', 'tiempo', 'cómo', 'están', 'impulsa', 'desde', 'además', 'tecnología', 'pagos', 'también', 'sin', 'series', 'distancia', 'el', 'eficaces', 'literarios', 'entretiene', 'transformado', 'sobre', 'para', 'bienestar', 'escenas', 'telemedicina', 'no', 'falta', 'que', 'aprendizaje', 'los', 'efectos', 'acceso', 'desafían', 'cambiando', 'algoritmos', 'solo', 'temas', 'plataformas', 'artificial', 'competencias', 'sus', 'donde', 'adoptando', 'contenido', 'prioridad', 'rápidamente', 'un', 'está', 'personalizados', 'experiencias', 'compramos', 'llevado', 'millones', 'salud', 'perpetúen', 'nuevo', 'una', 'uno', 'como'}\n"
     ]
    }
   ],
   "source": [
    "vocab = []\n",
    "for i in range(0,len(datos)):\n",
    "    vocab.extend(datos[i]['text'].lower().replace(',','').replace('.','').split())\n",
    "\n",
    "vocab = set(vocab)\n",
    "print(len(vocab))\n",
    "print(vocab)"
   ]
  },
  {
   "cell_type": "markdown",
   "id": "549d0d8b6f7ed0a2",
   "metadata": {},
   "source": [
    "## Paso 2: Calcular una matriz término-documento\n",
    "Una vez que tenemos el vocabulario, el siguiente paso es construir una **matriz término-documento**, que nos permitirá representar cada documento como un vector en el espacio de términos."
   ]
  },
  {
   "cell_type": "markdown",
   "id": "8ffb74f6",
   "metadata": {},
   "source": [
    "Para facilitar la generacion de la matriz TD, definimos tdtransform, se crea la lista 'doc', recorre cada palabra de 'vocab' para comprobar la existencia dentro del documento colocando si es True 1 y False 0. "
   ]
  },
  {
   "cell_type": "code",
   "execution_count": 10,
   "id": "4b35c2996c774ec2",
   "metadata": {
    "ExecuteTime": {
     "end_time": "2024-10-22T13:00:04.977448Z",
     "start_time": "2024-10-22T13:00:04.961452Z"
    }
   },
   "outputs": [],
   "source": [
    "def tdtransform(text):\n",
    "    doc = []\n",
    "    for word in vocab:\n",
    "        if word in text.lower().replace(',','').replace('.','').split():\n",
    "           doc.append(1)\n",
    "        else:\n",
    "            doc.append(0)\n",
    "    return doc"
   ]
  },
  {
   "cell_type": "markdown",
   "id": "fc57bd49",
   "metadata": {},
   "source": [
    "Inicializamos una lista vacia 'tdmatrix', aqui definimos el parametro 'text' de la funcion anterior e igualmente recorremos la longitud de los datos y agregamos el dresultado 'doc' en la lista. Imprimimos el resultado.  "
   ]
  },
  {
   "cell_type": "code",
   "execution_count": 11,
   "id": "1b052a6cd19731a5",
   "metadata": {
    "ExecuteTime": {
     "end_time": "2024-10-22T13:00:30.419629Z",
     "start_time": "2024-10-22T13:00:30.382836Z"
    }
   },
   "outputs": [
    {
     "name": "stdout",
     "output_type": "stream",
     "text": [
      "[[0, 0, 0, 0, 0, 0, 0, 0, 0, 0, 0, 0, 0, 0, 0, 0, 0, 0, 0, 1, 1, 0, 0, 0, 0, 0, 0, 0, 1, 0, 1, 0, 0, 0, 0, 0, 0, 0, 0, 0, 0, 0, 0, 1, 0, 0, 0, 0, 0, 0, 1, 0, 0, 0, 0, 0, 1, 0, 0, 0, 0, 0, 0, 0, 0, 0, 0, 0, 0, 0, 0, 1, 1, 1, 0, 0, 0, 0, 0, 0, 0, 0, 0, 0, 0, 0, 1, 0, 1, 0, 1, 0, 1, 0, 0, 0, 0, 0, 0, 0, 0, 0, 0, 1, 0, 0, 0, 0, 0, 0, 0, 0, 0, 0, 0, 1, 1, 0, 0, 0, 0, 1, 0, 0, 0, 1, 0, 0, 1, 0, 1, 1, 0, 1, 0, 0, 0, 0, 0, 1, 0, 0, 1, 0, 0, 1, 1, 0, 0, 1, 0, 0, 0, 0, 0, 0, 0, 0, 0, 0, 0, 0, 1, 0, 0, 0, 0, 1, 0, 0, 0, 1, 0, 1, 0, 0, 1, 0, 0, 0, 0, 0, 0, 1, 0, 0, 1, 0, 0, 0, 0, 0, 1, 0, 0, 0, 1, 0, 1, 1, 0, 0, 0, 0, 0, 1, 0, 0, 0, 1, 0, 0, 0, 1, 0, 0, 1, 0, 0, 0, 0, 0, 0, 0, 1, 1, 0, 0, 0, 1], [0, 0, 1, 0, 0, 1, 0, 1, 0, 1, 1, 0, 0, 0, 1, 0, 0, 0, 0, 0, 0, 0, 0, 0, 0, 0, 0, 0, 0, 0, 0, 0, 0, 0, 0, 0, 1, 0, 1, 0, 0, 1, 1, 0, 1, 0, 0, 0, 0, 0, 0, 0, 0, 1, 0, 0, 1, 0, 0, 0, 0, 1, 0, 1, 0, 0, 0, 0, 0, 0, 0, 0, 1, 1, 0, 0, 1, 0, 0, 0, 0, 1, 0, 0, 0, 0, 0, 0, 0, 0, 1, 0, 0, 0, 0, 0, 0, 0, 0, 0, 0, 1, 0, 0, 0, 0, 0, 0, 0, 0, 1, 0, 0, 0, 1, 0, 0, 1, 0, 0, 0, 0, 0, 0, 0, 0, 0, 0, 0, 1, 1, 0, 1, 0, 0, 0, 0, 0, 0, 0, 0, 0, 0, 0, 1, 0, 1, 0, 0, 1, 1, 0, 0, 0, 1, 0, 0, 1, 0, 0, 0, 0, 0, 0, 0, 0, 0, 0, 0, 0, 0, 0, 0, 0, 0, 0, 0, 1, 0, 0, 0, 0, 1, 0, 0, 0, 1, 0, 0, 0, 0, 0, 0, 0, 0, 0, 0, 0, 0, 0, 1, 0, 0, 0, 0, 0, 0, 0, 0, 1, 1, 0, 1, 0, 0, 0, 0, 1, 0, 0, 0, 0, 0, 1, 0, 0, 1, 0, 0, 1], [0, 0, 0, 0, 0, 0, 0, 0, 0, 0, 0, 1, 0, 0, 0, 0, 0, 0, 0, 0, 0, 1, 1, 0, 0, 0, 0, 0, 0, 0, 0, 0, 0, 0, 0, 0, 0, 1, 0, 1, 1, 0, 0, 0, 0, 0, 1, 1, 0, 0, 0, 0, 0, 0, 0, 0, 1, 0, 0, 0, 0, 0, 0, 0, 1, 0, 0, 0, 0, 1, 0, 0, 0, 1, 0, 0, 1, 0, 0, 0, 0, 0, 0, 0, 0, 0, 0, 0, 0, 0, 0, 0, 1, 0, 1, 1, 1, 1, 0, 0, 0, 0, 0, 0, 0, 1, 0, 1, 0, 0, 0, 0, 0, 1, 1, 0, 0, 0, 0, 0, 0, 0, 0, 1, 0, 0, 0, 0, 0, 0, 1, 0, 0, 0, 0, 1, 0, 0, 0, 0, 0, 0, 0, 0, 0, 0, 1, 0, 1, 0, 0, 1, 0, 0, 0, 0, 0, 0, 1, 0, 0, 0, 0, 0, 0, 0, 0, 0, 0, 1, 0, 0, 0, 0, 0, 0, 1, 0, 1, 0, 1, 1, 0, 0, 0, 0, 1, 0, 0, 0, 0, 0, 1, 0, 0, 0, 0, 0, 1, 0, 1, 0, 0, 0, 0, 0, 0, 0, 1, 0, 0, 1, 0, 0, 0, 0, 0, 0, 0, 0, 1, 1, 0, 0, 0, 0, 0, 0, 0, 0], [1, 0, 0, 1, 0, 0, 0, 0, 1, 0, 0, 0, 0, 0, 0, 0, 0, 0, 0, 0, 0, 0, 0, 0, 0, 0, 1, 0, 0, 1, 0, 0, 1, 1, 0, 0, 0, 0, 0, 0, 0, 0, 0, 0, 0, 0, 0, 0, 0, 1, 0, 0, 0, 0, 1, 0, 1, 1, 0, 1, 1, 1, 1, 0, 0, 1, 1, 0, 0, 0, 0, 0, 0, 0, 0, 0, 1, 0, 0, 0, 0, 0, 0, 0, 1, 1, 0, 0, 0, 0, 0, 0, 0, 1, 0, 0, 0, 0, 0, 0, 0, 0, 0, 0, 0, 1, 0, 0, 1, 0, 0, 0, 0, 0, 1, 0, 0, 0, 1, 0, 0, 0, 1, 0, 1, 0, 0, 0, 0, 0, 1, 1, 0, 0, 0, 0, 0, 0, 0, 0, 0, 0, 0, 0, 0, 0, 1, 1, 1, 0, 0, 0, 0, 0, 0, 0, 0, 0, 0, 0, 0, 0, 0, 0, 1, 0, 0, 0, 0, 0, 0, 0, 0, 0, 1, 0, 0, 0, 0, 0, 0, 0, 0, 1, 0, 1, 0, 0, 0, 0, 0, 0, 1, 0, 0, 0, 0, 1, 0, 0, 1, 0, 0, 0, 0, 0, 0, 0, 0, 0, 0, 0, 0, 0, 0, 0, 0, 1, 0, 0, 0, 0, 0, 1, 0, 0, 0, 0, 1, 0], [0, 0, 0, 0, 0, 0, 1, 1, 0, 0, 0, 0, 0, 1, 0, 0, 1, 0, 0, 0, 0, 0, 0, 0, 0, 0, 0, 1, 0, 0, 0, 0, 0, 0, 1, 1, 0, 0, 0, 0, 0, 1, 0, 0, 0, 0, 0, 0, 0, 0, 0, 0, 1, 0, 0, 1, 1, 0, 0, 0, 0, 1, 0, 0, 0, 0, 0, 0, 0, 0, 1, 0, 0, 0, 0, 0, 1, 0, 1, 0, 0, 0, 1, 0, 0, 0, 0, 1, 0, 0, 1, 0, 0, 0, 0, 0, 0, 0, 0, 1, 0, 0, 1, 0, 1, 0, 1, 0, 0, 0, 0, 0, 1, 0, 1, 0, 0, 0, 0, 1, 0, 0, 0, 0, 0, 0, 0, 0, 0, 1, 1, 0, 0, 0, 0, 0, 0, 0, 0, 0, 0, 0, 0, 0, 0, 0, 1, 0, 0, 0, 0, 0, 0, 0, 0, 1, 0, 0, 0, 0, 0, 0, 0, 0, 0, 0, 0, 0, 0, 0, 0, 0, 0, 0, 0, 1, 0, 0, 0, 1, 0, 0, 0, 0, 1, 0, 1, 0, 0, 0, 1, 0, 1, 0, 1, 0, 0, 0, 1, 0, 1, 1, 1, 1, 0, 0, 0, 0, 1, 0, 0, 0, 0, 0, 1, 0, 0, 0, 0, 0, 0, 0, 0, 0, 0, 0, 0, 0, 0, 0], [0, 0, 0, 0, 1, 0, 0, 1, 0, 0, 0, 0, 0, 0, 0, 0, 0, 0, 1, 0, 0, 0, 0, 0, 0, 0, 0, 0, 0, 0, 0, 0, 0, 0, 0, 0, 0, 0, 0, 0, 0, 0, 0, 0, 0, 1, 0, 0, 0, 0, 0, 0, 0, 0, 0, 0, 1, 0, 1, 0, 0, 1, 0, 0, 0, 0, 0, 1, 1, 0, 0, 0, 1, 1, 0, 1, 0, 1, 0, 0, 0, 0, 0, 1, 0, 0, 0, 0, 0, 0, 1, 0, 0, 0, 0, 0, 0, 0, 0, 0, 0, 0, 0, 0, 0, 0, 0, 0, 0, 0, 0, 1, 0, 0, 0, 0, 0, 0, 0, 0, 1, 0, 0, 0, 0, 0, 0, 1, 0, 0, 1, 1, 0, 0, 1, 1, 1, 0, 1, 0, 0, 0, 0, 0, 0, 0, 1, 0, 0, 1, 0, 0, 0, 0, 0, 0, 1, 0, 0, 0, 0, 0, 0, 1, 0, 0, 0, 0, 0, 0, 0, 0, 0, 0, 1, 0, 0, 0, 0, 0, 0, 0, 1, 0, 0, 0, 1, 0, 1, 1, 0, 1, 0, 0, 0, 0, 1, 0, 1, 0, 1, 0, 0, 0, 0, 0, 1, 1, 0, 1, 0, 0, 0, 0, 0, 0, 0, 0, 0, 0, 0, 0, 0, 0, 0, 0, 0, 0, 1, 1], [0, 0, 0, 0, 0, 0, 0, 0, 0, 0, 0, 0, 0, 0, 0, 1, 0, 1, 0, 0, 0, 0, 0, 0, 0, 0, 0, 0, 0, 0, 0, 1, 0, 0, 0, 0, 0, 0, 1, 0, 0, 0, 0, 1, 0, 0, 1, 0, 1, 0, 0, 1, 0, 0, 0, 0, 1, 0, 0, 0, 0, 1, 0, 0, 0, 0, 0, 0, 0, 0, 0, 0, 0, 1, 0, 0, 1, 0, 0, 0, 1, 0, 0, 0, 0, 0, 0, 0, 0, 1, 1, 0, 0, 0, 0, 0, 0, 0, 1, 0, 1, 0, 0, 0, 0, 0, 0, 1, 0, 0, 0, 0, 0, 0, 0, 0, 0, 0, 1, 0, 1, 0, 0, 0, 0, 0, 0, 0, 0, 0, 1, 0, 0, 0, 0, 0, 0, 1, 0, 0, 1, 1, 0, 1, 0, 0, 0, 1, 0, 0, 0, 0, 1, 0, 1, 0, 0, 0, 0, 1, 0, 1, 0, 0, 0, 0, 1, 0, 1, 0, 0, 0, 1, 0, 0, 0, 0, 0, 1, 0, 0, 0, 0, 0, 0, 0, 1, 0, 0, 0, 0, 0, 1, 1, 0, 0, 0, 0, 1, 1, 0, 0, 0, 0, 0, 0, 0, 0, 0, 0, 0, 0, 0, 0, 0, 1, 0, 1, 0, 0, 0, 0, 1, 0, 0, 0, 0, 1, 0, 0], [0, 1, 0, 0, 0, 0, 0, 1, 0, 0, 0, 0, 1, 0, 0, 0, 0, 0, 0, 0, 0, 0, 0, 1, 1, 1, 0, 0, 0, 0, 0, 0, 0, 0, 0, 0, 0, 0, 0, 0, 0, 0, 0, 0, 0, 1, 0, 0, 0, 0, 0, 0, 0, 0, 0, 0, 1, 0, 0, 0, 0, 1, 0, 0, 0, 0, 0, 0, 0, 0, 0, 0, 0, 1, 1, 0, 0, 0, 0, 1, 0, 0, 0, 0, 0, 0, 0, 0, 0, 0, 1, 1, 0, 0, 1, 0, 1, 0, 0, 0, 0, 0, 0, 0, 0, 0, 0, 1, 0, 1, 0, 0, 0, 0, 1, 0, 0, 0, 0, 0, 0, 0, 0, 0, 0, 0, 1, 0, 0, 0, 1, 1, 0, 0, 0, 1, 0, 0, 0, 0, 1, 0, 0, 0, 0, 0, 1, 0, 0, 0, 0, 0, 0, 1, 0, 0, 0, 0, 0, 0, 1, 0, 0, 0, 0, 1, 0, 0, 0, 0, 1, 0, 0, 0, 1, 0, 1, 0, 1, 0, 1, 0, 0, 0, 0, 0, 1, 1, 0, 0, 0, 0, 0, 0, 0, 1, 0, 0, 1, 0, 1, 0, 0, 0, 1, 0, 0, 0, 0, 0, 0, 0, 0, 0, 0, 0, 0, 0, 1, 1, 0, 0, 0, 0, 1, 0, 0, 0, 0, 0]]\n"
     ]
    }
   ],
   "source": [
    "tdmatrix = []\n",
    "for i in range(0,len(datos)):\n",
    "    doc = tdtransform(text=datos[i]['text'])\n",
    "    tdmatrix.append(doc)\n",
    "\n",
    "print(tdmatrix)"
   ]
  },
  {
   "cell_type": "markdown",
   "id": "a0abcd20f7bb7c44",
   "metadata": {},
   "source": [
    "## Paso 3: Obtener una representación de una _query_ en el espacio término-documento\n",
    "Ahora vamos a representar una _query_ como un vector en el mismo espacio de términos que hicimos para el corpus."
   ]
  },
  {
   "cell_type": "markdown",
   "id": "4a2b5d74",
   "metadata": {},
   "source": [
    "Se define una query, usando las funciones anteriormente definidas generamos la matriz TD."
   ]
  },
  {
   "cell_type": "code",
   "execution_count": 12,
   "id": "f4abdc2c22664498",
   "metadata": {
    "ExecuteTime": {
     "end_time": "2024-10-22T13:01:09.239680Z",
     "start_time": "2024-10-22T13:01:09.223561Z"
    }
   },
   "outputs": [
    {
     "name": "stdout",
     "output_type": "stream",
     "text": [
      "[0, 0, 0, 0, 0, 0, 0, 0, 0, 0, 0, 0, 0, 0, 0, 0, 0, 0, 0, 0, 0, 0, 0, 0, 0, 0, 0, 0, 0, 0, 0, 0, 0, 0, 0, 0, 0, 0, 0, 0, 0, 0, 0, 0, 0, 0, 0, 0, 0, 0, 0, 0, 0, 0, 0, 0, 0, 0, 0, 0, 0, 0, 0, 0, 0, 0, 0, 0, 0, 0, 0, 0, 1, 1, 0, 0, 0, 0, 0, 0, 0, 0, 0, 0, 0, 0, 0, 0, 0, 0, 0, 0, 0, 0, 0, 0, 0, 0, 0, 0, 0, 0, 0, 0, 0, 0, 0, 0, 0, 0, 0, 0, 0, 0, 0, 0, 0, 0, 0, 0, 0, 0, 0, 0, 0, 0, 1, 0, 0, 0, 0, 0, 0, 0, 0, 0, 0, 0, 0, 0, 0, 0, 0, 0, 0, 0, 0, 0, 0, 0, 0, 0, 0, 0, 0, 0, 0, 0, 0, 0, 0, 0, 0, 0, 0, 0, 0, 0, 0, 0, 0, 0, 0, 0, 0, 0, 0, 0, 0, 0, 0, 0, 0, 0, 0, 0, 0, 0, 0, 0, 0, 0, 0, 0, 0, 0, 0, 0, 0, 0, 0, 0, 0, 0, 0, 0, 0, 0, 0, 1, 0, 0, 0, 0, 0, 0, 0, 0, 0, 0, 0, 0, 0, 0, 0, 0, 0, 0, 0, 0]\n"
     ]
    }
   ],
   "source": [
    "query = \"inteligencia artificial en medicina\"\n",
    "print(tdtransform(query))"
   ]
  },
  {
   "cell_type": "markdown",
   "id": "49b612552e0a24cb",
   "metadata": {},
   "source": [
    "## Paso 4: Calcular la distancia entre la _query_ y todos los documentos del corpus\n",
    "Al obtener la distancia Jaccard entre la _query_ y cada documento del corpus, calculamos la relevancia que tiene cada documento para la _query_ "
   ]
  },
  {
   "cell_type": "markdown",
   "id": "d6ac8a7d",
   "metadata": {},
   "source": [
    "Se necesita guardar el resultado del vector de la query. Necesario imprimir para verificar el resultado."
   ]
  },
  {
   "cell_type": "code",
   "execution_count": 13,
   "id": "b60c6b18c45dcb83",
   "metadata": {},
   "outputs": [
    {
     "name": "stdout",
     "output_type": "stream",
     "text": [
      "[0, 0, 0, 0, 0, 0, 0, 0, 0, 0, 0, 0, 0, 0, 0, 0, 0, 0, 0, 0, 0, 0, 0, 0, 0, 0, 0, 0, 0, 0, 0, 0, 0, 0, 0, 0, 0, 0, 0, 0, 0, 0, 0, 0, 0, 0, 0, 0, 0, 0, 0, 0, 0, 0, 0, 0, 0, 0, 0, 0, 0, 0, 0, 0, 0, 0, 0, 0, 0, 0, 0, 0, 1, 1, 0, 0, 0, 0, 0, 0, 0, 0, 0, 0, 0, 0, 0, 0, 0, 0, 0, 0, 0, 0, 0, 0, 0, 0, 0, 0, 0, 0, 0, 0, 0, 0, 0, 0, 0, 0, 0, 0, 0, 0, 0, 0, 0, 0, 0, 0, 0, 0, 0, 0, 0, 0, 1, 0, 0, 0, 0, 0, 0, 0, 0, 0, 0, 0, 0, 0, 0, 0, 0, 0, 0, 0, 0, 0, 0, 0, 0, 0, 0, 0, 0, 0, 0, 0, 0, 0, 0, 0, 0, 0, 0, 0, 0, 0, 0, 0, 0, 0, 0, 0, 0, 0, 0, 0, 0, 0, 0, 0, 0, 0, 0, 0, 0, 0, 0, 0, 0, 0, 0, 0, 0, 0, 0, 0, 0, 0, 0, 0, 0, 0, 0, 0, 0, 0, 0, 1, 0, 0, 0, 0, 0, 0, 0, 0, 0, 0, 0, 0, 0, 0, 0, 0, 0, 0, 0, 0]\n"
     ]
    }
   ],
   "source": [
    "vec_q = tdtransform(query)\n",
    "print(vec_q)"
   ]
  },
  {
   "cell_type": "markdown",
   "id": "f729f458",
   "metadata": {},
   "source": [
    "Para calcular la distancia es revelante obtener el valor de la distancia Jaccard la cual es:\n",
    "\n",
    "Jaccard(A,B)= ∣A∩B∣ / ∣A∪B∣. \n",
    "​\n",
    "Siendo A igual al conjunto de palabras de la query, y B el conjunto de palabras presentes en el corpus.\n",
    "\n",
    "Definimos una funcion para poder clcular tanto la interseccion como la union. Tambien una condicion para evitar una divisio para 0, retornamos el resulatado de la division de la interseccion sobre la union."
   ]
  },
  {
   "cell_type": "code",
   "execution_count": 14,
   "id": "4a689837",
   "metadata": {},
   "outputs": [],
   "source": [
    "def jaccard(vec_doc, vec_q):\n",
    "\n",
    "    interseccion = sum(1 for a, b in zip(vec_doc, vec_q) if a == 1 and b == 1)\n",
    "    union = sum(1 for a, b in zip(vec_doc, vec_q) if a == 1 or b == 1)\n",
    "    \n",
    "    if union == 0:\n",
    "        return 0  \n",
    "    \n",
    "    return interseccion / union"
   ]
  },
  {
   "cell_type": "markdown",
   "id": "3173b4cbd523e996",
   "metadata": {},
   "source": [
    "## Paso 5: Entregar los resultados de la búsqueda al usuario\n",
    "A partir de la _query_, debemos indicar al usuario cuáles documentos son los más relevantes. Se debe presentar la información en orden de relevancia."
   ]
  },
  {
   "cell_type": "code",
   "execution_count": 18,
   "id": "ed97957b",
   "metadata": {},
   "outputs": [
    {
     "name": "stdout",
     "output_type": "stream",
     "text": [
      "Documentos ordenados por relevancia según la similitud de Jaccard con la consulta:\n",
      "Documento 5 - Similitud de Jaccard: 0.06976744186046512\n",
      "Texto del documento: La ciencia ficción es uno de los géneros literarios más populares, explorando temas como el viaje en el tiempo, la inteligencia artificial y la vida en otros planetas. Este género no solo entretiene, sino que también invita a reflexionar sobre el futuro de la humanidad y las implicaciones de los avances tecnológicos.\n",
      "\n",
      "\n",
      "Documento 1 - Similitud de Jaccard: 0.06666666666666667\n",
      "Texto del documento: El desarrollo de videojuegos ha alcanzado un nuevo nivel con tecnologías como la realidad aumentada y la inteligencia artificial. Los jugadores ahora pueden interactuar en mundos virtuales más inmersivos. Este crecimiento también impulsa el mercado de los e-sports, donde las competencias profesionales atraen a millones de espectadores en todo el mundo.\n",
      "\n",
      "\n",
      "Documento 0 - Similitud de Jaccard: 0.06382978723404255\n",
      "Texto del documento: La inteligencia artificial continúa avanzando rápidamente, transformando sectores como la salud y las finanzas. Las empresas están adoptando algoritmos de aprendizaje automático para mejorar la eficiencia. Sin embargo, el desafío principal sigue siendo garantizar que las decisiones basadas en datos sean justas y no perpetúen sesgos. La ética es fundamental en este contexto.\n",
      "\n",
      "\n",
      "Documento 7 - Similitud de Jaccard: 0.045454545454545456\n",
      "Texto del documento: Los avances en la medicina están cambiando la forma en que se diagnostican y tratan las enfermedades. Desde la telemedicina hasta los dispositivos portátiles que monitorean la salud en tiempo real, la tecnología está permitiendo a los médicos ofrecer cuidados más personalizados. El futuro de la medicina es prometedor, con tratamientos más accesibles y eficaces.\n",
      "\n",
      "\n",
      "Documento 2 - Similitud de Jaccard: 0.022222222222222223\n",
      "Texto del documento: El comercio electrónico ha cambiado la forma en que compramos. Con la creciente demanda de compras en línea, las empresas están optimizando sus plataformas digitales para ofrecer mejores experiencias de usuario. Desde recomendaciones personalizadas hasta pagos rápidos, los avances en tecnología siguen facilitando las transacciones diarias de los consumidores.\n",
      "\n",
      "\n",
      "Documento 6 - Similitud de Jaccard: 0.021739130434782608\n",
      "Texto del documento: El desarrollo personal se ha convertido en una prioridad para muchas personas que buscan mejorar su calidad de vida. Desde la adopción de hábitos saludables hasta el aprendizaje de nuevas habilidades, el enfoque en el crecimiento individual ha llevado a un aumento en la demanda de libros, cursos y aplicaciones que promueven el bienestar integral.\n",
      "\n",
      "\n",
      "Documento 3 - Similitud de Jaccard: 0.0\n",
      "Texto del documento: La educación a distancia ha permitido a millones de estudiantes acceder a programas de calidad sin importar su ubicación. La flexibilidad es uno de los mayores beneficios, especialmente para aquellos con trabajos a tiempo completo. Aunque la falta de interacción presencial es un reto, las herramientas digitales siguen mejorando la experiencia educativa.\n",
      "\n",
      "\n",
      "Documento 4 - Similitud de Jaccard: 0.0\n",
      "Texto del documento: El cine ha evolucionado con los años, incorporando efectos visuales cada vez más realistas. Las producciones cinematográficas utilizan tecnologías avanzadas para crear escenas que desafían la realidad. Además, el acceso a plataformas de streaming ha transformado cómo y cuándo el público consume contenido, democratizando el acceso a películas y series.\n",
      "\n",
      "\n"
     ]
    }
   ],
   "source": [
    "similitudes_jaccard = []\n",
    "\n",
    "\n",
    "for i in range(len(datos)):\n",
    "    vec_doc = tdmatrix[i]\n",
    "    similitud = jaccard(vec_doc, vec_q)\n",
    "    similitudes_jaccard.append((i, similitud))  \n",
    "\n",
    "similitudes_jaccard.sort(key=lambda x: x[1], reverse=True)\n",
    "\n",
    "print(\"Documentos ordenados por relevancia según la similitud de Jaccard con la consulta:\")\n",
    "for i, similitud in similitudes_jaccard:\n",
    "    print(f\"Documento {i} - Similitud de Jaccard: {similitud}\")\n",
    "    print(\"Texto del documento:\", datos[i]['text'])\n",
    "    print(\"\\n\")"
   ]
  }
 ],
 "metadata": {
  "kernelspec": {
   "display_name": "base",
   "language": "python",
   "name": "python3"
  },
  "language_info": {
   "codemirror_mode": {
    "name": "ipython",
    "version": 3
   },
   "file_extension": ".py",
   "mimetype": "text/x-python",
   "name": "python",
   "nbconvert_exporter": "python",
   "pygments_lexer": "ipython3",
   "version": "3.11.5"
  }
 },
 "nbformat": 4,
 "nbformat_minor": 5
}
