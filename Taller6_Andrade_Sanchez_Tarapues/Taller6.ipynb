{
 "cells": [
  {
   "cell_type": "markdown",
   "metadata": {},
   "source": [
    "# Taller 06: Bases de Datos Vectoriales  \n",
    "**ICCD753 Recuperación de Información – Prof. Iván Carrera (2024-B, EPN-FIS)**  \n",
    "\n",
    "**Fecha de Entrega:** Martes 14 de enero de 2025  \n",
    "**Integrantes:**  \n",
    "- Dilan Andrade  \n",
    "- Hernán Sánchez  \n",
    "- Galo Tarapués  \n",
    "\n",
    "---\n",
    "\n",
    "### **Objetivo del Taller**\n",
    "Implementar y comparar estrategias de recuperación de información utilizando TF-IDF, BM25 y embeddings con bases de datos vectoriales, evaluando su relevancia y eficiencia en un dataset textual real.\n"
   ]
  },
  {
   "cell_type": "markdown",
   "metadata": {},
   "source": [
    "# Parte1 Recuperación con TF-IDF "
   ]
  },
  {
   "cell_type": "code",
   "execution_count": 17,
   "metadata": {},
   "outputs": [],
   "source": [
    "\n",
    "# Importar librerías necesarias\n",
    "\n",
    "import pandas as pd\n",
    "from sklearn.feature_extraction.text import TfidfVectorizer\n",
    "from sklearn.metrics.pairwise import cosine_similarity\n"
   ]
  },
  {
   "cell_type": "code",
   "execution_count": 18,
   "metadata": {},
   "outputs": [
    {
     "data": {
      "text/html": [
       "<div>\n",
       "<style scoped>\n",
       "    .dataframe tbody tr th:only-of-type {\n",
       "        vertical-align: middle;\n",
       "    }\n",
       "\n",
       "    .dataframe tbody tr th {\n",
       "        vertical-align: top;\n",
       "    }\n",
       "\n",
       "    .dataframe thead th {\n",
       "        text-align: right;\n",
       "    }\n",
       "</style>\n",
       "<table border=\"1\" class=\"dataframe\">\n",
       "  <thead>\n",
       "    <tr style=\"text-align: right;\">\n",
       "      <th></th>\n",
       "      <th>Release Year</th>\n",
       "      <th>Title</th>\n",
       "      <th>Origin/Ethnicity</th>\n",
       "      <th>Director</th>\n",
       "      <th>Cast</th>\n",
       "      <th>Genre</th>\n",
       "      <th>Wiki Page</th>\n",
       "      <th>Plot</th>\n",
       "    </tr>\n",
       "  </thead>\n",
       "  <tbody>\n",
       "    <tr>\n",
       "      <th>0</th>\n",
       "      <td>1901</td>\n",
       "      <td>Kansas Saloon Smashers</td>\n",
       "      <td>American</td>\n",
       "      <td>Unknown</td>\n",
       "      <td>NaN</td>\n",
       "      <td>unknown</td>\n",
       "      <td>https://en.wikipedia.org/wiki/Kansas_Saloon_Sm...</td>\n",
       "      <td>A bartender is working at a saloon, serving dr...</td>\n",
       "    </tr>\n",
       "    <tr>\n",
       "      <th>1</th>\n",
       "      <td>1901</td>\n",
       "      <td>Love by the Light of the Moon</td>\n",
       "      <td>American</td>\n",
       "      <td>Unknown</td>\n",
       "      <td>NaN</td>\n",
       "      <td>unknown</td>\n",
       "      <td>https://en.wikipedia.org/wiki/Love_by_the_Ligh...</td>\n",
       "      <td>The moon, painted with a smiling face hangs ov...</td>\n",
       "    </tr>\n",
       "    <tr>\n",
       "      <th>2</th>\n",
       "      <td>1901</td>\n",
       "      <td>The Martyred Presidents</td>\n",
       "      <td>American</td>\n",
       "      <td>Unknown</td>\n",
       "      <td>NaN</td>\n",
       "      <td>unknown</td>\n",
       "      <td>https://en.wikipedia.org/wiki/The_Martyred_Pre...</td>\n",
       "      <td>The film, just over a minute long, is composed...</td>\n",
       "    </tr>\n",
       "    <tr>\n",
       "      <th>3</th>\n",
       "      <td>1901</td>\n",
       "      <td>Terrible Teddy, the Grizzly King</td>\n",
       "      <td>American</td>\n",
       "      <td>Unknown</td>\n",
       "      <td>NaN</td>\n",
       "      <td>unknown</td>\n",
       "      <td>https://en.wikipedia.org/wiki/Terrible_Teddy,_...</td>\n",
       "      <td>Lasting just 61 seconds and consisting of two ...</td>\n",
       "    </tr>\n",
       "    <tr>\n",
       "      <th>4</th>\n",
       "      <td>1902</td>\n",
       "      <td>Jack and the Beanstalk</td>\n",
       "      <td>American</td>\n",
       "      <td>George S. Fleming, Edwin S. Porter</td>\n",
       "      <td>NaN</td>\n",
       "      <td>unknown</td>\n",
       "      <td>https://en.wikipedia.org/wiki/Jack_and_the_Bea...</td>\n",
       "      <td>The earliest known adaptation of the classic f...</td>\n",
       "    </tr>\n",
       "  </tbody>\n",
       "</table>\n",
       "</div>"
      ],
      "text/plain": [
       "   Release Year                             Title Origin/Ethnicity  \\\n",
       "0          1901            Kansas Saloon Smashers         American   \n",
       "1          1901     Love by the Light of the Moon         American   \n",
       "2          1901           The Martyred Presidents         American   \n",
       "3          1901  Terrible Teddy, the Grizzly King         American   \n",
       "4          1902            Jack and the Beanstalk         American   \n",
       "\n",
       "                             Director Cast    Genre  \\\n",
       "0                             Unknown  NaN  unknown   \n",
       "1                             Unknown  NaN  unknown   \n",
       "2                             Unknown  NaN  unknown   \n",
       "3                             Unknown  NaN  unknown   \n",
       "4  George S. Fleming, Edwin S. Porter  NaN  unknown   \n",
       "\n",
       "                                           Wiki Page  \\\n",
       "0  https://en.wikipedia.org/wiki/Kansas_Saloon_Sm...   \n",
       "1  https://en.wikipedia.org/wiki/Love_by_the_Ligh...   \n",
       "2  https://en.wikipedia.org/wiki/The_Martyred_Pre...   \n",
       "3  https://en.wikipedia.org/wiki/Terrible_Teddy,_...   \n",
       "4  https://en.wikipedia.org/wiki/Jack_and_the_Bea...   \n",
       "\n",
       "                                                Plot  \n",
       "0  A bartender is working at a saloon, serving dr...  \n",
       "1  The moon, painted with a smiling face hangs ov...  \n",
       "2  The film, just over a minute long, is composed...  \n",
       "3  Lasting just 61 seconds and consisting of two ...  \n",
       "4  The earliest known adaptation of the classic f...  "
      ]
     },
     "execution_count": 18,
     "metadata": {},
     "output_type": "execute_result"
    }
   ],
   "source": [
    "ruta_dataset = \"wiki_movie_plots_deduped.csv\"\n",
    "\n",
    "# Cargamos el CSV en un DataFrame de pandas\n",
    "df = pd.read_csv(ruta_dataset)\n",
    "\n",
    "# Eliminamos filas que no tengan un 'Plot' (trama) válido\n",
    "df = df.dropna(subset=['Plot'])\n",
    "\n",
    "# Mostramos las primeras filas para verificar la carga\n",
    "df.head()\n"
   ]
  },
  {
   "cell_type": "code",
   "execution_count": 19,
   "metadata": {},
   "outputs": [],
   "source": [
    "# CPreprocesar e integrar Título y Trama\n",
    "\n",
    "# Creamos una nueva columna combinando 'Title' y 'Plot'.\n",
    "# De esta forma, TF-IDF considerará también el título de la película, además de la trama.\n",
    "df['texto_completo'] = df['Title'].astype(str) + \" \" + df['Plot'].astype(str)\n",
    "\n",
    "# Puedes agregar aquí más preprocesamiento si deseas (minúsculas, regex, etc.).\n",
    "# Por ejemplo:\n",
    "# df['texto_completo'] = df['texto_completo'].str.lower()\n",
    "# ... Lematización o stemming, de ser necesario ...\n"
   ]
  },
  {
   "cell_type": "code",
   "execution_count": 20,
   "metadata": {},
   "outputs": [
    {
     "name": "stdout",
     "output_type": "stream",
     "text": [
      "Matriz TF-IDF generada con forma: (34886, 20000)\n"
     ]
    }
   ],
   "source": [
    "\n",
    "# Creamos el vectorizador TF-IDF con parámetros ajustados:\n",
    "# - stop_words='english' para remover stopwords en inglés.\n",
    "# - max_features=20000 para limitar el tamaño del vocabulario.\n",
    "# - sublinear_tf=True para emplear la escala logarítmica en los conteos de términos.\n",
    "# - ngram_range=(1, 2) para capturar n-gramas (unigramas y bigramas).\n",
    "vectorizador_tfidf = TfidfVectorizer(\n",
    "    stop_words='english',\n",
    "    max_features=20000,\n",
    "    sublinear_tf=True,\n",
    "    ngram_range=(1, 2)\n",
    ")\n",
    "\n",
    "# Ajustamos el vectorizador a la nueva columna 'texto_completo'\n",
    "matriz_tfidf = vectorizador_tfidf.fit_transform(df['texto_completo'])\n",
    "\n",
    "print(\"Matriz TF-IDF generada con forma:\", matriz_tfidf.shape)\n"
   ]
  },
  {
   "cell_type": "code",
   "execution_count": 21,
   "metadata": {},
   "outputs": [],
   "source": [
    "\n",
    "def buscar_con_tfidf(consulta, numero_resultados=5):\n",
    "    \"\"\"\n",
    "    Dada una consulta en texto, transforma la consulta a su vector TF-IDF\n",
    "    y calcula la similitud con todos los documentos del dataset.\n",
    "    Retorna los índices de los documentos más similares y sus puntuaciones.\n",
    "    \"\"\"\n",
    "    # Convertimos la consulta al vector TF-IDF (mismos parámetros que el vectorizador entrenado)\n",
    "    vector_consulta = vectorizador_tfidf.transform([consulta])\n",
    "\n",
    "    # Calculamos similitud de coseno con todos los documentos\n",
    "    similitudes = cosine_similarity(vector_consulta, matriz_tfidf).flatten()\n",
    "\n",
    "    # Ordenamos los documentos por su puntuación de similitud (descendente)\n",
    "    indices_ordenados = similitudes.argsort()[::-1][:numero_resultados]\n",
    "    puntuaciones = similitudes[indices_ordenados]\n",
    "\n",
    "    return indices_ordenados, puntuaciones\n"
   ]
  },
  {
   "cell_type": "code",
   "execution_count": 22,
   "metadata": {},
   "outputs": [
    {
     "name": "stdout",
     "output_type": "stream",
     "text": [
      "Resultados para la consulta: 'dinosaurs'\n",
      "\n",
      "Rank 1\n",
      "Título (Title): Theodore Rex\n",
      "Similitud: 0.3514\n",
      "Trama (Plot) (primeros 200 caracteres): In an alternate futuristic society where humans and anthropomorphic dinosaurs co-exist, a tough police detective named Katie Coltraine (Whoopi Goldberg) is paired with a Tyrannosaurus named Theodore R...\n",
      "--------------------------------------------------\n",
      "Rank 2\n",
      "Título (Title): Dinosaurs! – A Fun-Filled Trip Back in Time!\n",
      "Similitud: 0.2623\n",
      "Trama (Plot) (primeros 200 caracteres): The video—with beginning scenes filmed in 1987—begins with a young boy named Phillip (played by Fred Savage) sitting in his bedroom, listening to loud music, and struggling to find an idea for a class...\n",
      "--------------------------------------------------\n",
      "Rank 3\n",
      "Título (Title): We're Back! A Dinosaur's Story\n",
      "Similitud: 0.2593\n",
      "Trama (Plot) (primeros 200 caracteres): In present-day New York City, an Eastern bluebird named Buster runs away from his siblings and he meets an intelligent orange Tyrannosaurus named Rex, who is playing golf. He explains to Buster that h...\n",
      "--------------------------------------------------\n",
      "Rank 4\n",
      "Título (Title): Future War\n",
      "Similitud: 0.2569\n",
      "Trama (Plot) (primeros 200 caracteres): Future War begins aboard a spaceship undergoing a revolt. A man enters and activates an escape pod which travels to Earth and crashes into the Pacific Ocean. The pod contains “The Runaway”, a human sl...\n",
      "--------------------------------------------------\n",
      "Rank 5\n",
      "Título (Title): Abaranger Deluxe\n",
      "Similitud: 0.2505\n",
      "Trama (Plot) (primeros 200 caracteres): Scientists believe that 65,000,000 years ago, a meteorite's crash on Earth killed off the dinosaurs, but in truth, it split Earth into two parallel universes: Dino Earth (ダイノアース, Daino Aasu), an Earth...\n",
      "--------------------------------------------------\n"
     ]
    }
   ],
   "source": [
    "\n",
    "# Ejemplo de consulta\n",
    "consulta_ejemplo = \"dinosaurs\"\n",
    "\n",
    "# Obtenemos los documentos más similares\n",
    "indices_encontrados, puntuaciones_encontradas = buscar_con_tfidf(consulta_ejemplo, numero_resultados=5)\n",
    "\n",
    "print(f\"Resultados para la consulta: '{consulta_ejemplo}'\\n\")\n",
    "for rank, (indice, puntuacion) in enumerate(zip(indices_encontrados, puntuaciones_encontradas), start=1):\n",
    "    print(f\"Rank {rank}\")\n",
    "    print(f\"Título (Title): {df.loc[indice, 'Title']}\")\n",
    "    print(f\"Similitud: {puntuacion:.4f}\")\n",
    "    # Mostramos los primeros 200 caracteres de la trama (Plot) para no saturar la salida\n",
    "    print(f\"Trama (Plot) (primeros 200 caracteres): {df.loc[indice, 'Plot'][:200]}...\")\n",
    "    print(\"-\"*50)\n"
   ]
  },
  {
   "cell_type": "markdown",
   "metadata": {},
   "source": [
    "## Reflexión Parte 1: Recuperación con TF-IDF\n",
    "En esta parte, implementamos un modelo TF-IDF para calcular la relevancia de términos dentro del dataset de tramas de películas. El enfoque resultó efectivo para identificar documentos relacionados directamente con las palabras clave, aunque su capacidad es limitada frente a términos no exactos o con ambigüedades.\n"
   ]
  },
  {
   "cell_type": "markdown",
   "metadata": {},
   "source": [
    "# Parte 2 Recuperación con BM25"
   ]
  },
  {
   "cell_type": "code",
   "execution_count": 11,
   "metadata": {},
   "outputs": [],
   "source": [
    "\n",
    "from elasticsearch import Elasticsearch\n",
    "import pandas as pd\n",
    "from tqdm import tqdm\n",
    "import time"
   ]
  },
  {
   "cell_type": "code",
   "execution_count": 12,
   "metadata": {},
   "outputs": [
    {
     "name": "stdout",
     "output_type": "stream",
     "text": [
      "Conectado a Elasticsearch\n"
     ]
    }
   ],
   "source": [
    "# Conectar con Elasticsearch\n",
    "\n",
    "# Configuramos la conexión con Elasticsearch\n",
    "es = Elasticsearch(['http://localhost:9200'])\n",
    "\n",
    "# Verificamos la conexión\n",
    "if es.ping():\n",
    "    print(\"Conectado a Elasticsearch\")\n",
    "else:\n",
    "    print(\"No se pudo conectar a Elasticsearch\")"
   ]
  },
  {
   "cell_type": "code",
   "execution_count": 13,
   "metadata": {},
   "outputs": [
    {
     "name": "stdout",
     "output_type": "stream",
     "text": [
      "Índice 'movie_plots' creado exitosamente.\n"
     ]
    }
   ],
   "source": [
    "# Configuración del índice para almacenar los documentos\n",
    "index_name = \"movie_plots\"\n",
    "\n",
    "# Definir el esquema del índice con mapeos para BM25\n",
    "index_config = {\n",
    "    \"settings\": {\n",
    "        \"number_of_shards\": 1,\n",
    "        \"number_of_replicas\": 0,\n",
    "        \"analysis\": {\n",
    "            \"analyzer\": {\n",
    "                \"custom_analyzer\": {\n",
    "                    \"type\": \"standard\",\n",
    "                    \"stopwords\": \"_english_\"\n",
    "                }\n",
    "            }\n",
    "        }\n",
    "    },\n",
    "    \"mappings\": {\n",
    "        \"properties\": {\n",
    "            \"Title\": {\"type\": \"text\", \"analyzer\": \"custom_analyzer\"},\n",
    "            \"Plot\": {\"type\": \"text\", \"analyzer\": \"custom_analyzer\"}\n",
    "        }\n",
    "    }\n",
    "}\n",
    "\n",
    "# Crear el índice en Elasticsearch\n",
    "if not es.indices.exists(index=index_name):\n",
    "    es.indices.create(index=index_name, body=index_config)\n",
    "    print(f\"Índice '{index_name}' creado exitosamente.\")\n",
    "else:\n",
    "    print(f\"El índice '{index_name}' ya existe.\")\n"
   ]
  },
  {
   "cell_type": "code",
   "execution_count": 14,
   "metadata": {},
   "outputs": [
    {
     "name": "stderr",
     "output_type": "stream",
     "text": [
      "Indexando documentos en Elasticsearch: 100%|██████████| 34886/34886 [35:54<00:00, 16.19it/s]  "
     ]
    },
    {
     "name": "stdout",
     "output_type": "stream",
     "text": [
      "Se han indexado 34886 documentos en el índice 'movie_plots'.\n"
     ]
    },
    {
     "name": "stderr",
     "output_type": "stream",
     "text": [
      "\n"
     ]
    }
   ],
   "source": [
    "# Cargar el dataset\n",
    "ruta_dataset = \"wiki_movie_plots_deduped.csv\"\n",
    "df = pd.read_csv(ruta_dataset)\n",
    "\n",
    "# Filtrar filas con valores nulos en 'Plot'\n",
    "df = df.dropna(subset=['Plot'])\n",
    "\n",
    "# Insertar documentos en el índice\n",
    "for i, row in tqdm(df.iterrows(), total=len(df), desc=\"Indexando documentos en Elasticsearch\"):\n",
    "    doc = {\n",
    "        \"Title\": row['Title'],\n",
    "        \"Plot\": row['Plot']\n",
    "    }\n",
    "    es.index(index=index_name, id=i, body=doc)\n",
    "\n",
    "print(f\"Se han indexado {len(df)} documentos en el índice '{index_name}'.\")\n"
   ]
  },
  {
   "cell_type": "code",
   "execution_count": 15,
   "metadata": {},
   "outputs": [],
   "source": [
    "def buscar_con_bm25(consulta, numero_resultados=5):\n",
    "    \"\"\"\n",
    "    Realiza una consulta al índice en Elasticsearch utilizando BM25.\n",
    "    Retorna los documentos más relevantes y sus puntuaciones.\n",
    "    \n",
    "    Args:\n",
    "        consulta (str): Términos de búsqueda.\n",
    "        numero_resultados (int): Número de resultados a retornar.\n",
    "\n",
    "    Returns:\n",
    "        resultados (list): Lista de documentos relevantes con título y trama.\n",
    "    \"\"\"\n",
    "    # Query DSL para realizar la búsqueda\n",
    "    query = {\n",
    "        \"query\": {\n",
    "            \"match\": {\n",
    "                \"Plot\": consulta  # Buscar coincidencias en la trama\n",
    "            }\n",
    "        },\n",
    "        \"size\": numero_resultados\n",
    "    }\n",
    "\n",
    "    # Realizar la consulta\n",
    "    respuesta = es.search(index=index_name, body=query)\n",
    "\n",
    "    # Procesar resultados\n",
    "    resultados = []\n",
    "    for hit in respuesta['hits']['hits']:\n",
    "        resultados.append({\n",
    "            \"Title\": hit['_source']['Title'],\n",
    "            \"Plot\": hit['_source']['Plot'],\n",
    "            \"Score\": hit['_score']\n",
    "        })\n",
    "    \n",
    "    return resultados\n"
   ]
  },
  {
   "cell_type": "code",
   "execution_count": 16,
   "metadata": {},
   "outputs": [
    {
     "name": "stdout",
     "output_type": "stream",
     "text": [
      "Resultados para la consulta: 'dinosaurs'\n",
      "\n",
      "Rank 1\n",
      "Título: We're Back! A Dinosaur's Story\n",
      "Score: 12.8403\n",
      "Trama (primeros 200 caracteres): In present-day New York City, an Eastern bluebird named Buster runs away from his siblings and he meets an intelligent orange Tyrannosaurus named Rex, who is playing golf. He explains to Buster that h...\n",
      "--------------------------------------------------\n",
      "Rank 2\n",
      "Título: Theodore Rex\n",
      "Score: 11.6915\n",
      "Trama (primeros 200 caracteres): In an alternate futuristic society where humans and anthropomorphic dinosaurs co-exist, a tough police detective named Katie Coltraine (Whoopi Goldberg) is paired with a Tyrannosaurus named Theodore R...\n",
      "--------------------------------------------------\n",
      "Rank 3\n",
      "Título: Future War\n",
      "Score: 11.5795\n",
      "Trama (primeros 200 caracteres): Future War begins aboard a spaceship undergoing a revolt. A man enters and activates an escape pod which travels to Earth and crashes into the Pacific Ocean. The pod contains “The Runaway”, a human sl...\n",
      "--------------------------------------------------\n",
      "Rank 4\n",
      "Título: The Dinosaur Project\n",
      "Score: 11.2565\n",
      "Trama (primeros 200 caracteres): A group of explorers from the British Cryptozoological Society goes on an expedition into the Congo in search of a cryptid—the so-called Mokele-mbembe—which is believed to be a Plesiosaur. Along with ...\n",
      "--------------------------------------------------\n",
      "Rank 5\n",
      "Título: Unknown Island\n",
      "Score: 11.2565\n",
      "Trama (primeros 200 caracteres): Adventure-seeker Ted Osborne (Phillip Reed) and his fiancee Carole (Virginia Grey) are at a cafe in Singapore, looking for a charter to an island supposedly inhabited by dinosaurs. They come across th...\n",
      "--------------------------------------------------\n"
     ]
    }
   ],
   "source": [
    "# Ejemplo de consulta con BM25\n",
    "consulta_ejemplo = \"dinosaurs\"\n",
    "\n",
    "# Obtener los documentos más relevantes\n",
    "resultados_bm25 = buscar_con_bm25(consulta_ejemplo, numero_resultados=5)\n",
    "\n",
    "# Mostrar los resultados\n",
    "print(f\"Resultados para la consulta: '{consulta_ejemplo}'\\n\")\n",
    "for rank, resultado in enumerate(resultados_bm25, start=1):\n",
    "    print(f\"Rank {rank}\")\n",
    "    print(f\"Título: {resultado['Title']}\")\n",
    "    print(f\"Score: {resultado['Score']:.4f}\")\n",
    "    print(f\"Trama (primeros 200 caracteres): {resultado['Plot'][:200]}...\")\n",
    "    print(\"-\" * 50)\n"
   ]
  },
  {
   "cell_type": "markdown",
   "metadata": {},
   "source": [
    "## Reflexión Parte 2: Recuperación con BM25\n",
    "Usamos Elasticsearch para implementar BM25, lo que permitió una recuperación más robusta que TF-IDF al considerar la saturación de términos y la longitud de los documentos. Esta técnica mostró mejores resultados al priorizar documentos más relevantes para consultas específicas como \"dinosaurs\".\n"
   ]
  },
  {
   "cell_type": "markdown",
   "metadata": {},
   "source": [
    "# Parte 3"
   ]
  }
 ],
 "metadata": {
  "kernelspec": {
   "display_name": "Python 3",
   "language": "python",
   "name": "python3"
  },
  "language_info": {
   "codemirror_mode": {
    "name": "ipython",
    "version": 3
   },
   "file_extension": ".py",
   "mimetype": "text/x-python",
   "name": "python",
   "nbconvert_exporter": "python",
   "pygments_lexer": "ipython3",
   "version": "3.12.3"
  }
 },
 "nbformat": 4,
 "nbformat_minor": 2
}
